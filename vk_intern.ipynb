{
 "cells": [
  {
   "cell_type": "code",
   "execution_count": 28,
   "id": "8f6c2493",
   "metadata": {},
   "outputs": [],
   "source": [
    "import pandas as pd\n",
    "import xgboost as xgb\n",
    "from sklearn.model_selection import train_test_split\n",
    "import seaborn as sns\n",
    "import pandas as pd\n",
    "import numpy as np\n",
    "import matplotlib.pyplot as plt\n",
    "%matplotlib inline\n",
    "from sklearn.datasets import load_svmlight_file\n",
    "from sklearn.datasets import dump_svmlight_file"
   ]
  },
  {
   "cell_type": "code",
   "execution_count": 16,
   "id": "3307e28e",
   "metadata": {},
   "outputs": [],
   "source": [
    "data = pd.read_csv('intern_task.csv')"
   ]
  },
  {
   "cell_type": "code",
   "execution_count": 17,
   "id": "baa0a2cc",
   "metadata": {},
   "outputs": [
    {
     "data": {
      "text/plain": [
       "Index(['rank', 'query_id', 'feature_0', 'feature_1', 'feature_2', 'feature_3',\n",
       "       'feature_4', 'feature_5', 'feature_6', 'feature_7',\n",
       "       ...\n",
       "       'feature_134', 'feature_135', 'feature_136', 'feature_137',\n",
       "       'feature_138', 'feature_139', 'feature_140', 'feature_141',\n",
       "       'feature_142', 'feature_143'],\n",
       "      dtype='object', length=146)"
      ]
     },
     "execution_count": 17,
     "metadata": {},
     "output_type": "execute_result"
    }
   ],
   "source": [
    "data.columns"
   ]
  },
  {
   "cell_type": "code",
   "execution_count": 18,
   "id": "4c96e296",
   "metadata": {},
   "outputs": [
    {
     "data": {
      "text/plain": [
       "[0, 1, 2, 4, 3]"
      ]
     },
     "execution_count": 18,
     "metadata": {},
     "output_type": "execute_result"
    }
   ],
   "source": [
    "ranks = data['rank'].unique().tolist()\n",
    "ranks"
   ]
  },
  {
   "cell_type": "code",
   "execution_count": 19,
   "id": "b34ed494",
   "metadata": {},
   "outputs": [
    {
     "data": {
      "text/plain": [
       "2000"
      ]
     },
     "execution_count": 19,
     "metadata": {},
     "output_type": "execute_result"
    }
   ],
   "source": [
    "query = data['query_id'].unique().tolist()\n",
    "len(query)"
   ]
  },
  {
   "cell_type": "code",
   "execution_count": 20,
   "id": "ab3c565d",
   "metadata": {},
   "outputs": [
    {
     "data": {
      "text/html": [
       "<div>\n",
       "<style scoped>\n",
       "    .dataframe tbody tr th:only-of-type {\n",
       "        vertical-align: middle;\n",
       "    }\n",
       "\n",
       "    .dataframe tbody tr th {\n",
       "        vertical-align: top;\n",
       "    }\n",
       "\n",
       "    .dataframe thead th {\n",
       "        text-align: right;\n",
       "    }\n",
       "</style>\n",
       "<table border=\"1\" class=\"dataframe\">\n",
       "  <thead>\n",
       "    <tr style=\"text-align: right;\">\n",
       "      <th></th>\n",
       "      <th>rank</th>\n",
       "      <th>query_id</th>\n",
       "      <th>feature_0</th>\n",
       "      <th>feature_1</th>\n",
       "      <th>feature_2</th>\n",
       "      <th>feature_3</th>\n",
       "      <th>feature_4</th>\n",
       "      <th>feature_5</th>\n",
       "      <th>feature_6</th>\n",
       "      <th>feature_7</th>\n",
       "      <th>...</th>\n",
       "      <th>feature_134</th>\n",
       "      <th>feature_135</th>\n",
       "      <th>feature_136</th>\n",
       "      <th>feature_137</th>\n",
       "      <th>feature_138</th>\n",
       "      <th>feature_139</th>\n",
       "      <th>feature_140</th>\n",
       "      <th>feature_141</th>\n",
       "      <th>feature_142</th>\n",
       "      <th>feature_143</th>\n",
       "    </tr>\n",
       "  </thead>\n",
       "  <tbody>\n",
       "    <tr>\n",
       "      <th>count</th>\n",
       "      <td>235258.000000</td>\n",
       "      <td>235258.000000</td>\n",
       "      <td>235258.000000</td>\n",
       "      <td>235258.000000</td>\n",
       "      <td>235258.000000</td>\n",
       "      <td>235258.000000</td>\n",
       "      <td>235258.000000</td>\n",
       "      <td>235258.000000</td>\n",
       "      <td>235258.000000</td>\n",
       "      <td>235258.000000</td>\n",
       "      <td>...</td>\n",
       "      <td>2.352580e+05</td>\n",
       "      <td>2.352580e+05</td>\n",
       "      <td>235258.000000</td>\n",
       "      <td>235258.000000</td>\n",
       "      <td>235258.000000</td>\n",
       "      <td>235258.000000</td>\n",
       "      <td>235258.000000</td>\n",
       "      <td>235258.000000</td>\n",
       "      <td>235258.000000</td>\n",
       "      <td>235258.000000</td>\n",
       "    </tr>\n",
       "    <tr>\n",
       "      <th>mean</th>\n",
       "      <td>0.677869</td>\n",
       "      <td>14828.413401</td>\n",
       "      <td>1.911960</td>\n",
       "      <td>0.206233</td>\n",
       "      <td>1.189847</td>\n",
       "      <td>0.550272</td>\n",
       "      <td>1.960082</td>\n",
       "      <td>0.803964</td>\n",
       "      <td>0.097557</td>\n",
       "      <td>0.541174</td>\n",
       "      <td>...</td>\n",
       "      <td>4.763432e+02</td>\n",
       "      <td>1.046698e+04</td>\n",
       "      <td>0.070299</td>\n",
       "      <td>0.740710</td>\n",
       "      <td>11.067947</td>\n",
       "      <td>0.281747</td>\n",
       "      <td>0.027033</td>\n",
       "      <td>0.000269</td>\n",
       "      <td>22.457910</td>\n",
       "      <td>9.560379</td>\n",
       "    </tr>\n",
       "    <tr>\n",
       "      <th>std</th>\n",
       "      <td>0.830033</td>\n",
       "      <td>8193.945170</td>\n",
       "      <td>1.237374</td>\n",
       "      <td>0.579089</td>\n",
       "      <td>1.037233</td>\n",
       "      <td>0.790947</td>\n",
       "      <td>1.203534</td>\n",
       "      <td>0.339955</td>\n",
       "      <td>0.266035</td>\n",
       "      <td>0.419973</td>\n",
       "      <td>...</td>\n",
       "      <td>1.954840e+04</td>\n",
       "      <td>2.649584e+06</td>\n",
       "      <td>0.100721</td>\n",
       "      <td>0.352800</td>\n",
       "      <td>15.336861</td>\n",
       "      <td>0.392089</td>\n",
       "      <td>0.033351</td>\n",
       "      <td>0.002088</td>\n",
       "      <td>63.708018</td>\n",
       "      <td>14.347378</td>\n",
       "    </tr>\n",
       "    <tr>\n",
       "      <th>min</th>\n",
       "      <td>0.000000</td>\n",
       "      <td>10.000000</td>\n",
       "      <td>0.000000</td>\n",
       "      <td>0.000000</td>\n",
       "      <td>0.000000</td>\n",
       "      <td>0.000000</td>\n",
       "      <td>0.000000</td>\n",
       "      <td>0.000000</td>\n",
       "      <td>0.000000</td>\n",
       "      <td>0.000000</td>\n",
       "      <td>...</td>\n",
       "      <td>0.000000e+00</td>\n",
       "      <td>0.000000e+00</td>\n",
       "      <td>0.000000</td>\n",
       "      <td>0.000000</td>\n",
       "      <td>0.000000</td>\n",
       "      <td>0.000000</td>\n",
       "      <td>0.000000</td>\n",
       "      <td>0.000000</td>\n",
       "      <td>0.000000</td>\n",
       "      <td>0.000000</td>\n",
       "    </tr>\n",
       "    <tr>\n",
       "      <th>25%</th>\n",
       "      <td>0.000000</td>\n",
       "      <td>8215.000000</td>\n",
       "      <td>1.000000</td>\n",
       "      <td>0.000000</td>\n",
       "      <td>0.000000</td>\n",
       "      <td>0.000000</td>\n",
       "      <td>1.000000</td>\n",
       "      <td>0.666667</td>\n",
       "      <td>0.000000</td>\n",
       "      <td>0.000000</td>\n",
       "      <td>...</td>\n",
       "      <td>0.000000e+00</td>\n",
       "      <td>0.000000e+00</td>\n",
       "      <td>0.000000</td>\n",
       "      <td>0.620522</td>\n",
       "      <td>0.000000</td>\n",
       "      <td>0.000000</td>\n",
       "      <td>0.006703</td>\n",
       "      <td>0.000000</td>\n",
       "      <td>4.000000</td>\n",
       "      <td>2.000000</td>\n",
       "    </tr>\n",
       "    <tr>\n",
       "      <th>50%</th>\n",
       "      <td>0.000000</td>\n",
       "      <td>14935.000000</td>\n",
       "      <td>2.000000</td>\n",
       "      <td>0.000000</td>\n",
       "      <td>1.000000</td>\n",
       "      <td>0.000000</td>\n",
       "      <td>2.000000</td>\n",
       "      <td>1.000000</td>\n",
       "      <td>0.000000</td>\n",
       "      <td>0.500000</td>\n",
       "      <td>...</td>\n",
       "      <td>0.000000e+00</td>\n",
       "      <td>0.000000e+00</td>\n",
       "      <td>0.000000</td>\n",
       "      <td>0.926779</td>\n",
       "      <td>9.448900</td>\n",
       "      <td>0.000000</td>\n",
       "      <td>0.017761</td>\n",
       "      <td>0.000008</td>\n",
       "      <td>12.000000</td>\n",
       "      <td>5.500000</td>\n",
       "    </tr>\n",
       "    <tr>\n",
       "      <th>75%</th>\n",
       "      <td>1.000000</td>\n",
       "      <td>21580.000000</td>\n",
       "      <td>3.000000</td>\n",
       "      <td>0.000000</td>\n",
       "      <td>2.000000</td>\n",
       "      <td>1.000000</td>\n",
       "      <td>3.000000</td>\n",
       "      <td>1.000000</td>\n",
       "      <td>0.000000</td>\n",
       "      <td>1.000000</td>\n",
       "      <td>...</td>\n",
       "      <td>1.000000e+00</td>\n",
       "      <td>4.000000e-01</td>\n",
       "      <td>0.142857</td>\n",
       "      <td>0.999613</td>\n",
       "      <td>16.146733</td>\n",
       "      <td>0.500000</td>\n",
       "      <td>0.034954</td>\n",
       "      <td>0.000109</td>\n",
       "      <td>28.000000</td>\n",
       "      <td>12.000000</td>\n",
       "    </tr>\n",
       "    <tr>\n",
       "      <th>max</th>\n",
       "      <td>4.000000</td>\n",
       "      <td>29995.000000</td>\n",
       "      <td>31.000000</td>\n",
       "      <td>18.000000</td>\n",
       "      <td>27.000000</td>\n",
       "      <td>9.000000</td>\n",
       "      <td>31.000000</td>\n",
       "      <td>1.000000</td>\n",
       "      <td>1.000000</td>\n",
       "      <td>1.000000</td>\n",
       "      <td>...</td>\n",
       "      <td>1.731553e+06</td>\n",
       "      <td>8.000000e+08</td>\n",
       "      <td>0.818182</td>\n",
       "      <td>1.000000</td>\n",
       "      <td>2506.799764</td>\n",
       "      <td>1.000000</td>\n",
       "      <td>0.711261</td>\n",
       "      <td>0.250000</td>\n",
       "      <td>15074.000000</td>\n",
       "      <td>1552.000000</td>\n",
       "    </tr>\n",
       "  </tbody>\n",
       "</table>\n",
       "<p>8 rows × 146 columns</p>\n",
       "</div>"
      ],
      "text/plain": [
       "                rank       query_id      feature_0      feature_1  \\\n",
       "count  235258.000000  235258.000000  235258.000000  235258.000000   \n",
       "mean        0.677869   14828.413401       1.911960       0.206233   \n",
       "std         0.830033    8193.945170       1.237374       0.579089   \n",
       "min         0.000000      10.000000       0.000000       0.000000   \n",
       "25%         0.000000    8215.000000       1.000000       0.000000   \n",
       "50%         0.000000   14935.000000       2.000000       0.000000   \n",
       "75%         1.000000   21580.000000       3.000000       0.000000   \n",
       "max         4.000000   29995.000000      31.000000      18.000000   \n",
       "\n",
       "           feature_2      feature_3      feature_4      feature_5  \\\n",
       "count  235258.000000  235258.000000  235258.000000  235258.000000   \n",
       "mean        1.189847       0.550272       1.960082       0.803964   \n",
       "std         1.037233       0.790947       1.203534       0.339955   \n",
       "min         0.000000       0.000000       0.000000       0.000000   \n",
       "25%         0.000000       0.000000       1.000000       0.666667   \n",
       "50%         1.000000       0.000000       2.000000       1.000000   \n",
       "75%         2.000000       1.000000       3.000000       1.000000   \n",
       "max        27.000000       9.000000      31.000000       1.000000   \n",
       "\n",
       "           feature_6      feature_7  ...   feature_134   feature_135  \\\n",
       "count  235258.000000  235258.000000  ...  2.352580e+05  2.352580e+05   \n",
       "mean        0.097557       0.541174  ...  4.763432e+02  1.046698e+04   \n",
       "std         0.266035       0.419973  ...  1.954840e+04  2.649584e+06   \n",
       "min         0.000000       0.000000  ...  0.000000e+00  0.000000e+00   \n",
       "25%         0.000000       0.000000  ...  0.000000e+00  0.000000e+00   \n",
       "50%         0.000000       0.500000  ...  0.000000e+00  0.000000e+00   \n",
       "75%         0.000000       1.000000  ...  1.000000e+00  4.000000e-01   \n",
       "max         1.000000       1.000000  ...  1.731553e+06  8.000000e+08   \n",
       "\n",
       "         feature_136    feature_137    feature_138    feature_139  \\\n",
       "count  235258.000000  235258.000000  235258.000000  235258.000000   \n",
       "mean        0.070299       0.740710      11.067947       0.281747   \n",
       "std         0.100721       0.352800      15.336861       0.392089   \n",
       "min         0.000000       0.000000       0.000000       0.000000   \n",
       "25%         0.000000       0.620522       0.000000       0.000000   \n",
       "50%         0.000000       0.926779       9.448900       0.000000   \n",
       "75%         0.142857       0.999613      16.146733       0.500000   \n",
       "max         0.818182       1.000000    2506.799764       1.000000   \n",
       "\n",
       "         feature_140    feature_141    feature_142    feature_143  \n",
       "count  235258.000000  235258.000000  235258.000000  235258.000000  \n",
       "mean        0.027033       0.000269      22.457910       9.560379  \n",
       "std         0.033351       0.002088      63.708018      14.347378  \n",
       "min         0.000000       0.000000       0.000000       0.000000  \n",
       "25%         0.006703       0.000000       4.000000       2.000000  \n",
       "50%         0.017761       0.000008      12.000000       5.500000  \n",
       "75%         0.034954       0.000109      28.000000      12.000000  \n",
       "max         0.711261       0.250000   15074.000000    1552.000000  \n",
       "\n",
       "[8 rows x 146 columns]"
      ]
     },
     "execution_count": 20,
     "metadata": {},
     "output_type": "execute_result"
    }
   ],
   "source": [
    "data.describe()"
   ]
  },
  {
   "cell_type": "code",
   "execution_count": 21,
   "id": "d782af6d",
   "metadata": {},
   "outputs": [
    {
     "data": {
      "text/plain": [
       "False"
      ]
     },
     "execution_count": 21,
     "metadata": {},
     "output_type": "execute_result"
    }
   ],
   "source": [
    "data.isna().sum().any()"
   ]
  },
  {
   "cell_type": "code",
   "execution_count": 22,
   "id": "54b785af",
   "metadata": {},
   "outputs": [
    {
     "data": {
      "image/png": "[encoded data removed]",
      "text/plain": [
       "<Figure size 2000x1000 with 1 Axes>"
      ]
     },
     "metadata": {},
     "output_type": "display_data"
    }
   ],
   "source": [
    "sns.set(style='darkgrid')\n",
    "sns.set_context('talk')\n",
    "fig, ax = plt.subplots(figsize=(20, 10))\n",
    "sns.countplot(x='rank', \n",
    "            data=data, ax=ax);\n",
    "plt.title('Общее распределение по рангам', fontsize=20);\n",
    "plt.show()"
   ]
  },
  {
   "cell_type": "code",
   "execution_count": 26,
   "id": "5d4e8ad9",
   "metadata": {},
   "outputs": [],
   "source": [
    "df_train, df_test = train_test_split(data, test_size=0.33, random_state=324)"
   ]
  },
  {
   "cell_type": "markdown",
   "id": "7cfb7896",
   "metadata": {},
   "source": [
    "## convert dataframe to libsvm txt  format file"
   ]
  },
  {
   "cell_type": "code",
   "execution_count": 30,
   "id": "d4b9227d",
   "metadata": {},
   "outputs": [],
   "source": [
    "def df_to_libsvm_train(df: pd.DataFrame):\n",
    "    x = data.drop(columns = ['rank','query_id'], axis=1)\n",
    "    y = data['rank']\n",
    "    query_id  = data['query_id']\n",
    "    dump_svmlight_file(X=x, y=y, query_id= query_id, f='train.txt', zero_based=True)\n",
    "def df_to_libsvm_test(df: pd.DataFrame):\n",
    "    x = data.drop(columns = ['rank','query_id'], axis=1)\n",
    "    y = data['rank']\n",
    "    query_id  = data['query_id']\n",
    "    dump_svmlight_file(X=x, y=y, query_id= query_id, f='test.txt', zero_based=True)\n",
    "    \n",
    "df_to_libsvm_train(df_train)\n",
    "df_to_libsvm_test(df_test)"
   ]
  },
  {
   "cell_type": "markdown",
   "id": "a77bf613",
   "metadata": {},
   "source": [
    "# XGBRanking listwise:ndcg "
   ]
  },
  {
   "cell_type": "code",
   "execution_count": 31,
   "id": "118a44dc",
   "metadata": {},
   "outputs": [
    {
     "name": "stdout",
     "output_type": "stream",
     "text": [
      "[19:59:11] 235258x144 matrix with 21264386 entries loaded from train.txt\n",
      "[19:59:12] 235258x144 matrix with 21264386 entries loaded from test.txt\n"
     ]
    }
   ],
   "source": [
    "train = xgb.DMatrix(\"train.txt\")\n",
    "test = xgb.DMatrix(\"test.txt\")"
   ]
  },
  {
   "cell_type": "code",
   "execution_count": 32,
   "id": "89a5e7bf",
   "metadata": {},
   "outputs": [
    {
     "name": "stdout",
     "output_type": "stream",
     "text": [
      "[0]\ttest-ndcg:0.628908\ttest-ndcg@10:0.295684\ttest-ndcg@5:0.261346\ttest-map:0.578979\ttest-map@10:0.1415\n",
      "[1]\ttest-ndcg:0.646958\ttest-ndcg@10:0.337015\ttest-ndcg@5:0.312461\ttest-map:0.591243\ttest-map@10:0.150844\n",
      "[2]\ttest-ndcg:0.655213\ttest-ndcg@10:0.350271\ttest-ndcg@5:0.328119\ttest-map:0.594424\ttest-map@10:0.152917\n",
      "[3]\ttest-ndcg:0.659724\ttest-ndcg@10:0.357435\ttest-ndcg@5:0.337947\ttest-map:0.597096\ttest-map@10:0.154368\n",
      "[4]\ttest-ndcg:0.66854\ttest-ndcg@10:0.371568\ttest-ndcg@5:0.355985\ttest-map:0.599823\ttest-map@10:0.157263\n",
      "[5]\ttest-ndcg:0.673571\ttest-ndcg@10:0.38054\ttest-ndcg@5:0.365089\ttest-map:0.606294\ttest-map@10:0.160615\n",
      "[6]\ttest-ndcg:0.677484\ttest-ndcg@10:0.387264\ttest-ndcg@5:0.370378\ttest-map:0.611982\ttest-map@10:0.164569\n",
      "[7]\ttest-ndcg:0.68159\ttest-ndcg@10:0.397643\ttest-ndcg@5:0.379346\ttest-map:0.615054\ttest-map@10:0.166605\n",
      "[8]\ttest-ndcg:0.686374\ttest-ndcg@10:0.406493\ttest-ndcg@5:0.386554\ttest-map:0.619215\ttest-map@10:0.170157\n",
      "[9]\ttest-ndcg:0.689033\ttest-ndcg@10:0.412577\ttest-ndcg@5:0.392533\ttest-map:0.621575\ttest-map@10:0.171644\n",
      "[10]\ttest-ndcg:0.691195\ttest-ndcg@10:0.416744\ttest-ndcg@5:0.396515\ttest-map:0.623067\ttest-map@10:0.172316\n",
      "[11]\ttest-ndcg:0.694002\ttest-ndcg@10:0.420544\ttest-ndcg@5:0.402104\ttest-map:0.624682\ttest-map@10:0.173123\n",
      "[12]\ttest-ndcg:0.695005\ttest-ndcg@10:0.422511\ttest-ndcg@5:0.402941\ttest-map:0.625635\ttest-map@10:0.173895\n",
      "[13]\ttest-ndcg:0.696857\ttest-ndcg@10:0.425491\ttest-ndcg@5:0.405846\ttest-map:0.626813\ttest-map@10:0.174909\n",
      "[14]\ttest-ndcg:0.698551\ttest-ndcg@10:0.428482\ttest-ndcg@5:0.407927\ttest-map:0.627332\ttest-map@10:0.175257\n",
      "[15]\ttest-ndcg:0.699737\ttest-ndcg@10:0.429783\ttest-ndcg@5:0.409504\ttest-map:0.62849\ttest-map@10:0.176109\n",
      "[16]\ttest-ndcg:0.700662\ttest-ndcg@10:0.430461\ttest-ndcg@5:0.411732\ttest-map:0.628768\ttest-map@10:0.176154\n",
      "[17]\ttest-ndcg:0.701946\ttest-ndcg@10:0.432826\ttest-ndcg@5:0.414881\ttest-map:0.630312\ttest-map@10:0.177064\n",
      "[18]\ttest-ndcg:0.702996\ttest-ndcg@10:0.435743\ttest-ndcg@5:0.417407\ttest-map:0.630839\ttest-map@10:0.177623\n",
      "[19]\ttest-ndcg:0.704221\ttest-ndcg@10:0.437266\ttest-ndcg@5:0.420188\ttest-map:0.631697\ttest-map@10:0.177977\n"
     ]
    }
   ],
   "source": [
    "\n",
    "params = {\n",
    "    'verbosity': 0,\n",
    "    'max_depth': 4,\n",
    "    'objective': 'rank:ndcg',  \n",
    "    'eval_metric': [\n",
    "        'ndcg',\n",
    "        'ndcg@10',\n",
    "        'ndcg@5',\n",
    "        'map',\n",
    "        'map@10',\n",
    "    ]\n",
    "}\n",
    "model = xgb.train(params, train, evals=[(test, \"test\")], num_boost_round=20, verbose_eval=True)"
   ]
  },
  {
   "cell_type": "code",
   "execution_count": null,
   "id": "34ddfcb8",
   "metadata": {},
   "outputs": [],
   "source": []
  }
 ],
 "metadata": {
  "kernelspec": {
   "display_name": "Python 3 (ipykernel)",
   "language": "python",
   "name": "python3"
  },
  "language_info": {
   "codemirror_mode": {
    "name": "ipython",
    "version": 3
   },
   "file_extension": ".py",
   "mimetype": "text/x-python",
   "name": "python",
   "nbconvert_exporter": "python",
   "pygments_lexer": "ipython3",
   "version": "3.9.13"
  }
 },
 "nbformat": 4,
 "nbformat_minor": 5
}
